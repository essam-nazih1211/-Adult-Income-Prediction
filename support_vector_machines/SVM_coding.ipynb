{
  "nbformat": 4,
  "nbformat_minor": 0,
  "metadata": {
    "kernelspec": {
      "display_name": "Python 3",
      "language": "python",
      "name": "python3"
    },
    "language_info": {
      "codemirror_mode": {
        "name": "ipython",
        "version": 3
      },
      "file_extension": ".py",
      "mimetype": "text/x-python",
      "name": "python",
      "nbconvert_exporter": "python",
      "pygments_lexer": "ipython3",
      "version": "3.7.6"
    },
    "colab": {
      "name": "Copy of SVM_coding.ipynb",
      "provenance": []
    }
  },
  "cells": [
    {
      "cell_type": "code",
      "metadata": {
        "id": "NiS6N-Fcsjff"
      },
      "source": [
        "!git clone https://github.com/s7s/machine_learning_1.git\n",
        "%cd  machine_learning_1/support_vector_machines"
      ],
      "execution_count": null,
      "outputs": []
    },
    {
      "cell_type": "code",
      "metadata": {
        "id": "o33SxBZjsdiz"
      },
      "source": [
        "import pandas as pd\n",
        "import numpy as np\n",
        "import matplotlib.pyplot as plt\n",
        "import utils\n",
        "from sklearn.svm import SVC,SVR\n",
        "import random"
      ],
      "execution_count": null,
      "outputs": []
    },
    {
      "cell_type": "markdown",
      "metadata": {
        "id": "CxqGw4JGsdi1"
      },
      "source": [
        "# Building an SVM to separate a linear dataset"
      ]
    },
    {
      "cell_type": "code",
      "metadata": {
        "id": "KrXoMXfLsdi1"
      },
      "source": [
        "# Loading the linear dataset\n",
        "\n",
        "linear_data = pd.read_csv('linear.csv')\n",
        "features = np.array(linear_data[['x_1', 'x_2']])\n",
        "labels = np.array(linear_data['y'])\n",
        "utils.plot_points(features, labels)"
      ],
      "execution_count": null,
      "outputs": []
    },
    {
      "cell_type": "code",
      "metadata": {
        "id": "qX0VPMNysdi3"
      },
      "source": [
        "from sklearn.svm import SVC\n",
        "#use linear SVM\n",
        "svm_linear =\n",
        "\n",
        "\n",
        "print(\"Accuracy:\", svm_linear.score(features, labels))\n",
        "utils.plot_model(features, labels, svm_linear)"
      ],
      "execution_count": null,
      "outputs": []
    },
    {
      "cell_type": "code",
      "metadata": {
        "id": "4WSUUS--sdi4"
      },
      "source": [
        "# use linear SVM with C = 0.01\n",
        "\n",
        "svm_c_001 =\n",
        "\n",
        "print(\"C = 0.01\")\n",
        "print(\"Accuracy:\", svm_c_001.score(features, labels))\n",
        "utils.plot_model(features, labels, svm_c_001)\n",
        "\n",
        "# use linear SVM with C = 100\n",
        "svm_c_100 =\n",
        "\n",
        "print(\"C = 100\")\n",
        "print(\"Accuracy:\", svm_c_100.score(features, labels))\n",
        "utils.plot_model(features, labels, svm_c_100)"
      ],
      "execution_count": null,
      "outputs": []
    },
    {
      "cell_type": "markdown",
      "metadata": {
        "id": "mbmS2R9jsdi5"
      },
      "source": [
        "# Building polynomial kernels for a circular dataset"
      ]
    },
    {
      "cell_type": "code",
      "metadata": {
        "id": "jo6oXcogsdi5"
      },
      "source": [
        "# Loading the one_circle dataset\n",
        "\n",
        "circular_data = pd.read_csv('one_circle.csv')\n",
        "features = np.array(circular_data[['x_1', 'x_2']])\n",
        "labels = np.array(circular_data['y'])\n",
        "utils.plot_points(features, labels)"
      ],
      "execution_count": null,
      "outputs": []
    },
    {
      "cell_type": "code",
      "metadata": {
        "id": "YxT7P3o-sdi6"
      },
      "source": [
        "# use poly SVM with Degree = 2\n",
        "svm_degree_2 =\n",
        "\n",
        "print(\"Polynomial kernel of degree = 2\")\n",
        "print(\"Accuracy:\", svm_degree_2.score(features, labels))\n",
        "utils.plot_model(features, labels, svm_degree_2)\n",
        "\n",
        "# use poly SVM with Degree = 4\n",
        "svm_degree_4 =\n",
        "\n",
        "print(\"Polynomial kernel of degree = 4\")\n",
        "print(\"Accuracy:\", svm_degree_4.score(features, labels))\n",
        "utils.plot_model(features, labels, svm_degree_4)"
      ],
      "execution_count": null,
      "outputs": []
    },
    {
      "cell_type": "markdown",
      "metadata": {
        "id": "HzT6punnsdi7"
      },
      "source": [
        "# Experimenting with gammas in the rbf kernel"
      ]
    },
    {
      "cell_type": "code",
      "metadata": {
        "id": "57gnOZessdi7"
      },
      "source": [
        "# Loading the two_circles dataset\n",
        "\n",
        "two_circles_data = pd.read_csv('two_circles.csv')\n",
        "features = np.array(two_circles_data[['x_1', 'x_2']])\n",
        "labels = np.array(two_circles_data['y'])\n",
        "utils.plot_points(features, labels)"
      ],
      "execution_count": null,
      "outputs": []
    },
    {
      "cell_type": "code",
      "metadata": {
        "id": "Xl9QQr4Psdi8"
      },
      "source": [
        "# use SVM rbf with gamma = 0.1\n",
        "svm_gamma_01 =\n",
        "\n",
        "print(\"Gamma = 0.1\")\n",
        "print(\"Accuracy:\", svm_gamma_01.score(features, labels))\n",
        "utils.plot_model(features, labels, svm_gamma_01)\n",
        "\n",
        "# use SVM rbf with gamma = 1\n",
        "svm_gamma_1 =\n",
        "\n",
        "print(\"Gamma = 1\")\n",
        "print(\"Accuracy:\", svm_gamma_1.score(features, labels))\n",
        "utils.plot_model(features, labels, svm_gamma_1)\n",
        "\n",
        "# use SVM rbf with gamma = 10\n",
        "svm_gamma_10 =\n",
        "\n",
        "print(\"Gamma = 10\")\n",
        "print(\"Accuracy:\", svm_gamma_10.score(features, labels))\n",
        "utils.plot_model(features, labels, svm_gamma_10)\n",
        "\n",
        "# use SVM rbf with gamma = 100\n",
        "svm_gamma_100 =\n",
        "\n",
        "print(\"Gamma = 100\")\n",
        "print(\"Accuracy:\", svm_gamma_100.score(features, labels))\n",
        "utils.plot_model(features, labels, svm_gamma_100)"
      ],
      "execution_count": null,
      "outputs": []
    },
    {
      "cell_type": "markdown",
      "metadata": {
        "id": "gWcktyyaQz6W"
      },
      "source": [
        "### Real Example (Breast Cancer)"
      ]
    },
    {
      "cell_type": "code",
      "execution_count": null,
      "metadata": {
        "id": "iC10_fPVzSRM"
      },
      "outputs": [],
      "source": [
        "# Use seaborn for pairplot.\n",
        "!pip install -q seaborn"
      ]
    },
    {
      "cell_type": "code",
      "source": [
        "import pandas as pd\n",
        "import matplotlib\n",
        "from matplotlib import pyplot as plt\n",
        "import seaborn as sns\n",
        "import sklearn.metrics as sk_metrics\n",
        "import tempfile\n",
        "import os\n",
        "\n",
        "# Preset matplotlib figure sizes.\n",
        "matplotlib.rcParams['figure.figsize'] = [9, 6]"
      ],
      "metadata": {
        "id": "tHbpNus20cyK"
      },
      "execution_count": null,
      "outputs": []
    },
    {
      "cell_type": "code",
      "source": [
        "url = 'https://archive.ics.uci.edu/ml/machine-learning-databases/breast-cancer-wisconsin/wdbc.data'\n",
        "\n",
        "features = ['radius', 'texture', 'perimeter', 'area', 'smoothness', 'compactness',\n",
        "            'concavity', 'concave_poinits', 'symmetry', 'fractal_dimension']\n",
        "column_names = ['id', 'diagnosis']\n",
        "\n",
        "for attr in ['mean', 'ste', 'largest']:\n",
        "  for feature in features:\n",
        "    column_names.append(feature + \"_\" + attr)"
      ],
      "metadata": {
        "id": "gxJ3UyH00UNZ"
      },
      "execution_count": null,
      "outputs": []
    },
    {
      "cell_type": "code",
      "source": [
        "dataset = pd.read_csv(url, names=column_names)\n",
        "dataset.head()"
      ],
      "metadata": {
        "colab": {
          "base_uri": "https://localhost:8080/",
          "height": 299
        },
        "id": "P-NBXJLL0YZl",
        "outputId": "bd6d65da-365d-43e2-d6f4-c847a8712020"
      },
      "execution_count": null,
      "outputs": [
        {
          "output_type": "execute_result",
          "data": {
            "text/plain": [
              "         id diagnosis  radius_mean  texture_mean  perimeter_mean  area_mean  \\\n",
              "0    842302         M        17.99         10.38          122.80     1001.0   \n",
              "1    842517         M        20.57         17.77          132.90     1326.0   \n",
              "2  84300903         M        19.69         21.25          130.00     1203.0   \n",
              "3  84348301         M        11.42         20.38           77.58      386.1   \n",
              "4  84358402         M        20.29         14.34          135.10     1297.0   \n",
              "\n",
              "   smoothness_mean  compactness_mean  concavity_mean  concave_poinits_mean  \\\n",
              "0          0.11840           0.27760          0.3001               0.14710   \n",
              "1          0.08474           0.07864          0.0869               0.07017   \n",
              "2          0.10960           0.15990          0.1974               0.12790   \n",
              "3          0.14250           0.28390          0.2414               0.10520   \n",
              "4          0.10030           0.13280          0.1980               0.10430   \n",
              "\n",
              "   ...  radius_largest  texture_largest  perimeter_largest  area_largest  \\\n",
              "0  ...           25.38            17.33             184.60        2019.0   \n",
              "1  ...           24.99            23.41             158.80        1956.0   \n",
              "2  ...           23.57            25.53             152.50        1709.0   \n",
              "3  ...           14.91            26.50              98.87         567.7   \n",
              "4  ...           22.54            16.67             152.20        1575.0   \n",
              "\n",
              "   smoothness_largest  compactness_largest  concavity_largest  \\\n",
              "0              0.1622               0.6656             0.7119   \n",
              "1              0.1238               0.1866             0.2416   \n",
              "2              0.1444               0.4245             0.4504   \n",
              "3              0.2098               0.8663             0.6869   \n",
              "4              0.1374               0.2050             0.4000   \n",
              "\n",
              "   concave_poinits_largest  symmetry_largest  fractal_dimension_largest  \n",
              "0                   0.2654            0.4601                    0.11890  \n",
              "1                   0.1860            0.2750                    0.08902  \n",
              "2                   0.2430            0.3613                    0.08758  \n",
              "3                   0.2575            0.6638                    0.17300  \n",
              "4                   0.1625            0.2364                    0.07678  \n",
              "\n",
              "[5 rows x 32 columns]"
            ],
            "text/html": [
              "\n",
              "  <div id=\"df-e666a87f-fc54-400f-861e-cf03b45f4e90\">\n",
              "    <div class=\"colab-df-container\">\n",
              "      <div>\n",
              "<style scoped>\n",
              "    .dataframe tbody tr th:only-of-type {\n",
              "        vertical-align: middle;\n",
              "    }\n",
              "\n",
              "    .dataframe tbody tr th {\n",
              "        vertical-align: top;\n",
              "    }\n",
              "\n",
              "    .dataframe thead th {\n",
              "        text-align: right;\n",
              "    }\n",
              "</style>\n",
              "<table border=\"1\" class=\"dataframe\">\n",
              "  <thead>\n",
              "    <tr style=\"text-align: right;\">\n",
              "      <th></th>\n",
              "      <th>id</th>\n",
              "      <th>diagnosis</th>\n",
              "      <th>radius_mean</th>\n",
              "      <th>texture_mean</th>\n",
              "      <th>perimeter_mean</th>\n",
              "      <th>area_mean</th>\n",
              "      <th>smoothness_mean</th>\n",
              "      <th>compactness_mean</th>\n",
              "      <th>concavity_mean</th>\n",
              "      <th>concave_poinits_mean</th>\n",
              "      <th>...</th>\n",
              "      <th>radius_largest</th>\n",
              "      <th>texture_largest</th>\n",
              "      <th>perimeter_largest</th>\n",
              "      <th>area_largest</th>\n",
              "      <th>smoothness_largest</th>\n",
              "      <th>compactness_largest</th>\n",
              "      <th>concavity_largest</th>\n",
              "      <th>concave_poinits_largest</th>\n",
              "      <th>symmetry_largest</th>\n",
              "      <th>fractal_dimension_largest</th>\n",
              "    </tr>\n",
              "  </thead>\n",
              "  <tbody>\n",
              "    <tr>\n",
              "      <th>0</th>\n",
              "      <td>842302</td>\n",
              "      <td>M</td>\n",
              "      <td>17.99</td>\n",
              "      <td>10.38</td>\n",
              "      <td>122.80</td>\n",
              "      <td>1001.0</td>\n",
              "      <td>0.11840</td>\n",
              "      <td>0.27760</td>\n",
              "      <td>0.3001</td>\n",
              "      <td>0.14710</td>\n",
              "      <td>...</td>\n",
              "      <td>25.38</td>\n",
              "      <td>17.33</td>\n",
              "      <td>184.60</td>\n",
              "      <td>2019.0</td>\n",
              "      <td>0.1622</td>\n",
              "      <td>0.6656</td>\n",
              "      <td>0.7119</td>\n",
              "      <td>0.2654</td>\n",
              "      <td>0.4601</td>\n",
              "      <td>0.11890</td>\n",
              "    </tr>\n",
              "    <tr>\n",
              "      <th>1</th>\n",
              "      <td>842517</td>\n",
              "      <td>M</td>\n",
              "      <td>20.57</td>\n",
              "      <td>17.77</td>\n",
              "      <td>132.90</td>\n",
              "      <td>1326.0</td>\n",
              "      <td>0.08474</td>\n",
              "      <td>0.07864</td>\n",
              "      <td>0.0869</td>\n",
              "      <td>0.07017</td>\n",
              "      <td>...</td>\n",
              "      <td>24.99</td>\n",
              "      <td>23.41</td>\n",
              "      <td>158.80</td>\n",
              "      <td>1956.0</td>\n",
              "      <td>0.1238</td>\n",
              "      <td>0.1866</td>\n",
              "      <td>0.2416</td>\n",
              "      <td>0.1860</td>\n",
              "      <td>0.2750</td>\n",
              "      <td>0.08902</td>\n",
              "    </tr>\n",
              "    <tr>\n",
              "      <th>2</th>\n",
              "      <td>84300903</td>\n",
              "      <td>M</td>\n",
              "      <td>19.69</td>\n",
              "      <td>21.25</td>\n",
              "      <td>130.00</td>\n",
              "      <td>1203.0</td>\n",
              "      <td>0.10960</td>\n",
              "      <td>0.15990</td>\n",
              "      <td>0.1974</td>\n",
              "      <td>0.12790</td>\n",
              "      <td>...</td>\n",
              "      <td>23.57</td>\n",
              "      <td>25.53</td>\n",
              "      <td>152.50</td>\n",
              "      <td>1709.0</td>\n",
              "      <td>0.1444</td>\n",
              "      <td>0.4245</td>\n",
              "      <td>0.4504</td>\n",
              "      <td>0.2430</td>\n",
              "      <td>0.3613</td>\n",
              "      <td>0.08758</td>\n",
              "    </tr>\n",
              "    <tr>\n",
              "      <th>3</th>\n",
              "      <td>84348301</td>\n",
              "      <td>M</td>\n",
              "      <td>11.42</td>\n",
              "      <td>20.38</td>\n",
              "      <td>77.58</td>\n",
              "      <td>386.1</td>\n",
              "      <td>0.14250</td>\n",
              "      <td>0.28390</td>\n",
              "      <td>0.2414</td>\n",
              "      <td>0.10520</td>\n",
              "      <td>...</td>\n",
              "      <td>14.91</td>\n",
              "      <td>26.50</td>\n",
              "      <td>98.87</td>\n",
              "      <td>567.7</td>\n",
              "      <td>0.2098</td>\n",
              "      <td>0.8663</td>\n",
              "      <td>0.6869</td>\n",
              "      <td>0.2575</td>\n",
              "      <td>0.6638</td>\n",
              "      <td>0.17300</td>\n",
              "    </tr>\n",
              "    <tr>\n",
              "      <th>4</th>\n",
              "      <td>84358402</td>\n",
              "      <td>M</td>\n",
              "      <td>20.29</td>\n",
              "      <td>14.34</td>\n",
              "      <td>135.10</td>\n",
              "      <td>1297.0</td>\n",
              "      <td>0.10030</td>\n",
              "      <td>0.13280</td>\n",
              "      <td>0.1980</td>\n",
              "      <td>0.10430</td>\n",
              "      <td>...</td>\n",
              "      <td>22.54</td>\n",
              "      <td>16.67</td>\n",
              "      <td>152.20</td>\n",
              "      <td>1575.0</td>\n",
              "      <td>0.1374</td>\n",
              "      <td>0.2050</td>\n",
              "      <td>0.4000</td>\n",
              "      <td>0.1625</td>\n",
              "      <td>0.2364</td>\n",
              "      <td>0.07678</td>\n",
              "    </tr>\n",
              "  </tbody>\n",
              "</table>\n",
              "<p>5 rows × 32 columns</p>\n",
              "</div>\n",
              "      <button class=\"colab-df-convert\" onclick=\"convertToInteractive('df-e666a87f-fc54-400f-861e-cf03b45f4e90')\"\n",
              "              title=\"Convert this dataframe to an interactive table.\"\n",
              "              style=\"display:none;\">\n",
              "        \n",
              "  <svg xmlns=\"http://www.w3.org/2000/svg\" height=\"24px\"viewBox=\"0 0 24 24\"\n",
              "       width=\"24px\">\n",
              "    <path d=\"M0 0h24v24H0V0z\" fill=\"none\"/>\n",
              "    <path d=\"M18.56 5.44l.94 2.06.94-2.06 2.06-.94-2.06-.94-.94-2.06-.94 2.06-2.06.94zm-11 1L8.5 8.5l.94-2.06 2.06-.94-2.06-.94L8.5 2.5l-.94 2.06-2.06.94zm10 10l.94 2.06.94-2.06 2.06-.94-2.06-.94-.94-2.06-.94 2.06-2.06.94z\"/><path d=\"M17.41 7.96l-1.37-1.37c-.4-.4-.92-.59-1.43-.59-.52 0-1.04.2-1.43.59L10.3 9.45l-7.72 7.72c-.78.78-.78 2.05 0 2.83L4 21.41c.39.39.9.59 1.41.59.51 0 1.02-.2 1.41-.59l7.78-7.78 2.81-2.81c.8-.78.8-2.07 0-2.86zM5.41 20L4 18.59l7.72-7.72 1.47 1.35L5.41 20z\"/>\n",
              "  </svg>\n",
              "      </button>\n",
              "      \n",
              "  <style>\n",
              "    .colab-df-container {\n",
              "      display:flex;\n",
              "      flex-wrap:wrap;\n",
              "      gap: 12px;\n",
              "    }\n",
              "\n",
              "    .colab-df-convert {\n",
              "      background-color: #E8F0FE;\n",
              "      border: none;\n",
              "      border-radius: 50%;\n",
              "      cursor: pointer;\n",
              "      display: none;\n",
              "      fill: #1967D2;\n",
              "      height: 32px;\n",
              "      padding: 0 0 0 0;\n",
              "      width: 32px;\n",
              "    }\n",
              "\n",
              "    .colab-df-convert:hover {\n",
              "      background-color: #E2EBFA;\n",
              "      box-shadow: 0px 1px 2px rgba(60, 64, 67, 0.3), 0px 1px 3px 1px rgba(60, 64, 67, 0.15);\n",
              "      fill: #174EA6;\n",
              "    }\n",
              "\n",
              "    [theme=dark] .colab-df-convert {\n",
              "      background-color: #3B4455;\n",
              "      fill: #D2E3FC;\n",
              "    }\n",
              "\n",
              "    [theme=dark] .colab-df-convert:hover {\n",
              "      background-color: #434B5C;\n",
              "      box-shadow: 0px 1px 3px 1px rgba(0, 0, 0, 0.15);\n",
              "      filter: drop-shadow(0px 1px 2px rgba(0, 0, 0, 0.3));\n",
              "      fill: #FFFFFF;\n",
              "    }\n",
              "  </style>\n",
              "\n",
              "      <script>\n",
              "        const buttonEl =\n",
              "          document.querySelector('#df-e666a87f-fc54-400f-861e-cf03b45f4e90 button.colab-df-convert');\n",
              "        buttonEl.style.display =\n",
              "          google.colab.kernel.accessAllowed ? 'block' : 'none';\n",
              "\n",
              "        async function convertToInteractive(key) {\n",
              "          const element = document.querySelector('#df-e666a87f-fc54-400f-861e-cf03b45f4e90');\n",
              "          const dataTable =\n",
              "            await google.colab.kernel.invokeFunction('convertToInteractive',\n",
              "                                                     [key], {});\n",
              "          if (!dataTable) return;\n",
              "\n",
              "          const docLinkHtml = 'Like what you see? Visit the ' +\n",
              "            '<a target=\"_blank\" href=https://colab.research.google.com/notebooks/data_table.ipynb>data table notebook</a>'\n",
              "            + ' to learn more about interactive tables.';\n",
              "          element.innerHTML = '';\n",
              "          dataTable['output_type'] = 'display_data';\n",
              "          await google.colab.output.renderOutput(dataTable, element);\n",
              "          const docLink = document.createElement('div');\n",
              "          docLink.innerHTML = docLinkHtml;\n",
              "          element.appendChild(docLink);\n",
              "        }\n",
              "      </script>\n",
              "    </div>\n",
              "  </div>\n",
              "  "
            ]
          },
          "metadata": {},
          "execution_count": 13
        }
      ]
    },
    {
      "cell_type": "code",
      "source": [
        "train_dataset = dataset.sample(frac=0.75, random_state=1)\n",
        "test_dataset = dataset.drop(train_dataset.index)\n",
        "# The `id` column can be dropped since each row is unique\n",
        "x_train, y_train = train_dataset.iloc[:, 2:], train_dataset.iloc[:, 1]\n",
        "x_test, y_test = test_dataset.iloc[:, 2:], test_dataset.iloc[:, 1]"
      ],
      "metadata": {
        "id": "WeVD2C0W0att"
      },
      "execution_count": null,
      "outputs": []
    },
    {
      "cell_type": "code",
      "source": [
        "y_train, y_test = y_train.map({'B': 0, 'M': 1}), y_test.map({'B': 0, 'M': 1})"
      ],
      "metadata": {
        "id": "9VRZNE8z10u5"
      },
      "execution_count": null,
      "outputs": []
    },
    {
      "cell_type": "code",
      "source": [
        "# use all data with standard scaler\n",
        "# use \"sag\" solver\n",
        "from sklearn import preprocessing\n",
        "from sklearn.linear_model import LogisticRegression\n",
        "clf = LogisticRegression(solver=\"sag\")\n",
        "clf.fit(preprocessing.StandardScaler().fit_transform(x_train), y_train)\n",
        "clf.score(preprocessing.StandardScaler().fit_transform(x_test), y_test)"
      ],
      "metadata": {
        "colab": {
          "base_uri": "https://localhost:8080/"
        },
        "id": "AgG7UtMI3Rq1",
        "outputId": "4feafd26-ee7b-448e-b932-4eb5c1b792dd"
      },
      "execution_count": null,
      "outputs": [
        {
          "output_type": "stream",
          "name": "stderr",
          "text": [
            "/usr/local/lib/python3.8/dist-packages/sklearn/linear_model/_sag.py:352: ConvergenceWarning: The max_iter was reached which means the coef_ did not converge\n",
            "  warnings.warn(\n"
          ]
        },
        {
          "output_type": "execute_result",
          "data": {
            "text/plain": [
              "0.9859154929577465"
            ]
          },
          "metadata": {},
          "execution_count": 17
        }
      ]
    },
    {
      "cell_type": "code",
      "source": [
        "# use SVM with all data with standard scaler\n",
        "# try to tune parameters to reach accuracy >= logistic regression accuracy\n"
      ],
      "metadata": {
        "id": "uJcHfc3G2Wam"
      },
      "execution_count": null,
      "outputs": []
    },
    {
      "cell_type": "markdown",
      "metadata": {
        "id": "sG27wMM1tOwo"
      },
      "source": [
        "# Support Vector Regression (SVC)"
      ]
    },
    {
      "cell_type": "code",
      "metadata": {
        "id": "EVdxnvPztVTd"
      },
      "source": [
        "# Our original polynomial is -x^2+x+15\n",
        "coefs = [15,1,-1]\n",
        "\n",
        "def polynomial(coefs, x):\n",
        "    n = len(coefs)\n",
        "    return sum([coefs[i]*x**i for i in range(n)])\n",
        "\n",
        "def draw_polynomial(coefs):\n",
        "    n = len(coefs)\n",
        "    x = np.linspace(-5, 5, 1000)\n",
        "\n",
        "draw_polynomial(coefs)\n",
        "X = []\n",
        "Y = []\n",
        "x=-5\n",
        "for i in range(40):\n",
        "    x = x+0.25\n",
        "    y = polynomial(coefs, x) + random.gauss(0,2)\n",
        "    X.append(x)\n",
        "    Y.append(y)\n",
        "X=np.array(X)\n",
        "Y=np.array(Y)\n",
        "plt.ylim(-20,20)\n",
        "plt.scatter(X, Y)"
      ],
      "execution_count": null,
      "outputs": []
    },
    {
      "cell_type": "code",
      "metadata": {
        "id": "SBM1bpMWtlfk"
      },
      "source": [
        "# use poly SVR with degree 2\n",
        "svr ="
      ],
      "execution_count": null,
      "outputs": []
    },
    {
      "cell_type": "code",
      "metadata": {
        "id": "Lp8VXO0YuFiC"
      },
      "source": [
        "from sklearn.metrics import mean_squared_error\n",
        "def display_results(svr,X,Y):\n",
        "  X=np.array(X)\n",
        "  y=np.array(Y)\n",
        "  lw = 2\n",
        "\n",
        "  svrs = ['svr_poly']\n",
        "  kernel_label = ['Polynomial']\n",
        "  model_color = ['g']\n",
        "\n",
        "  fig, axes = plt.subplots(nrows=1, ncols=1, figsize=(15, 10), sharey=True)\n",
        "  for ix, _ in enumerate(svrs):\n",
        "      plt.plot(X, svr.predict(X.reshape(-1, 1)), color=model_color[ix], lw=lw,\n",
        "                    label='{} model'.format(kernel_label[ix]))\n",
        "      plt.scatter(X[svr.support_], y[svr.support_], facecolor=\"none\",\n",
        "                      edgecolor=model_color[ix], s=50,\n",
        "                      label='{} support vectors'.format(kernel_label[ix]))\n",
        "      plt.scatter(X[np.setdiff1d(np.arange(len(X)), svr.support_)],\n",
        "                      y[np.setdiff1d(np.arange(len(X)), svr.support_)],\n",
        "                      facecolor=\"none\", edgecolor=\"k\", s=50,\n",
        "                      label='other training data')\n",
        "display_results(svr,X,Y)"
      ],
      "execution_count": null,
      "outputs": []
    }
  ]
}